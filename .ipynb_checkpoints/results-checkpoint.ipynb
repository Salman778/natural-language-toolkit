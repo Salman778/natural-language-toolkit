{
 "cells": [
  {
   "cell_type": "code",
   "execution_count": 14,
   "metadata": {},
   "outputs": [],
   "source": [
    "from nltk import sent_tokenize\n",
    "from tika import parser\n",
    "import xlsxwriter"
   ]
  },
  {
   "cell_type": "code",
   "execution_count": 15,
   "metadata": {},
   "outputs": [],
   "source": [
    "def load_pdf(path):\n",
    "    PDF_Parse = parser.from_file(path)\n",
    "    pdf = PDF_Parse['content']\n",
    "    return pdf"
   ]
  },
  {
   "cell_type": "code",
   "execution_count": 16,
   "metadata": {},
   "outputs": [],
   "source": [
    "def define_range(pdf, is_first_page):\n",
    "    if is_first_page:\n",
    "        start = pdf.rfind('\\n\\n\\n', 0, pdf.find('\\nArab World English Journal'))\n",
    "    else:\n",
    "        start = pdf.rfind('\\n\\n', 0, pdf.find('\\nArab World English Journal'))\n",
    "    end = pdf.find('\\n', pdf.find('ISSN', start))\n",
    "    return [start, end]"
   ]
  },
  {
   "cell_type": "code",
   "execution_count": 17,
   "metadata": {},
   "outputs": [],
   "source": [
    "def delete_out_body(pdf):\n",
    "    [start, end] = define_range(pdf, True)\n",
    "    while (start != -1 and end != -1):\n",
    "        pdf = pdf[:start] + pdf[end + 1:]\n",
    "        [start, end] = define_range(pdf, False)\n",
    "    pdf = pdf[:pdf.find('\\nReferences')] + pdf[len(pdf):]\n",
    "    return pdf"
   ]
  },
  {
   "cell_type": "code",
   "execution_count": 18,
   "metadata": {},
   "outputs": [],
   "source": [
    "# pdfs = []\n",
    "def main():\n",
    "#     for i in range(21):\n",
    "  pdf = load_pdf('files/copy/{}-copy.pdf'.format(1))\n",
    "  pdf = delete_out_body(pdf)\n",
    "  return pdf\n",
    "#   pdfs.append(pdf)"
   ]
  },
  {
   "cell_type": "code",
   "execution_count": 19,
   "metadata": {},
   "outputs": [],
   "source": [
    "pdf = main().strip().replace('\\n', '')"
   ]
  },
  {
   "cell_type": "code",
   "execution_count": 20,
   "metadata": {},
   "outputs": [],
   "source": [
    "pdf_sent = sent_tokenize(pdf)"
   ]
  },
  {
   "cell_type": "code",
   "execution_count": 32,
   "metadata": {},
   "outputs": [],
   "source": [
    "workbook = xlsxwriter.Workbook('files/results/concordance.xlsx')\n",
    "worksheet = workbook.add_worksheet()\n",
    "list_words = ['Introduction', 'however']\n",
    "dic = {}\n",
    "row = 0\n",
    "for word in list_words:\n",
    "    dic[word] = []\n",
    "    row += 1\n",
    "    for sent in pdf_sent:\n",
    "        if(sent.lower().find(word.lower()) != -1):\n",
    "            if(len(dic[word]) == 0):\n",
    "                worksheet.write(row, 0, word)\n",
    "                row += 1\n",
    "            dic[word].append(sent)\n",
    "            worksheet.write(row, 0, sent) \n",
    "            row +=1\n",
    "workbook.close() "
   ]
  }
 ],
 "metadata": {
  "kernelspec": {
   "display_name": "Python 3",
   "language": "python",
   "name": "python3"
  },
  "language_info": {
   "codemirror_mode": {
    "name": "ipython",
    "version": 3
   },
   "file_extension": ".py",
   "mimetype": "text/x-python",
   "name": "python",
   "nbconvert_exporter": "python",
   "pygments_lexer": "ipython3",
   "version": "3.8.6"
  }
 },
 "nbformat": 4,
 "nbformat_minor": 4
}
