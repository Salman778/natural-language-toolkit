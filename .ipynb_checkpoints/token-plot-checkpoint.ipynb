{
 "cells": [
  {
   "cell_type": "code",
   "execution_count": 1,
   "metadata": {},
   "outputs": [],
   "source": [
    "from nltk import word_tokenize, FreqDist"
   ]
  },
  {
   "cell_type": "code",
   "execution_count": 2,
   "metadata": {},
   "outputs": [],
   "source": [
    "raw  = \"\"\"The little pig saw the wolf climb up on the roof and lit a roaring fire in the fireplace and\\\n",
    "          placed on it a large kettle of water.When the wolf finally found the hole in the chimney he crawled down\\\n",
    "          and KERSPLASH right into that kettle of water and that was the end of his troubles with the big bad wolf.\\\n",
    "          The next day the little pig invited his mother over . She said &amp;amp;quot;You see it is just as I told you. \\\n",
    "          The way to get along in the world is to do things as well as you can.&amp;amp;quot; Fortunately for that little pig,\\\n",
    "          he learned that lesson. And he just lived happily ever after!\"\"\""
   ]
  },
  {
   "cell_type": "code",
   "execution_count": 6,
   "metadata": {},
   "outputs": [],
   "source": [
    "arr = word_tokenize(raw)"
   ]
  },
  {
   "cell_type": "code",
   "execution_count": 11,
   "metadata": {},
   "outputs": [],
   "source": [
    "dic = FreqDist(arr)"
   ]
  },
  {
   "cell_type": "code",
   "execution_count": 19,
   "metadata": {},
   "outputs": [
    {
     "name": "stdout",
     "output_type": "stream",
     "text": [
      "the 10\n",
      "; 6\n",
      "and 4\n",
      "that 4\n",
      ". 4\n",
      "amp 4\n",
      "The 3\n",
      "little 3\n",
      "pig 3\n",
      "wolf 3\n",
      "in 3\n",
      "of 3\n",
      "he 3\n",
      "as 3\n",
      "on 2\n",
      "a 2\n",
      "it 2\n",
      "kettle 2\n",
      "his 2\n",
      "& 2\n",
      "quot 2\n",
      "is 2\n",
      "just 2\n",
      "you 2\n",
      "to 2\n",
      "saw 1\n",
      "climb 1\n",
      "up 1\n",
      "roof 1\n",
      "lit 1\n",
      "roaring 1\n",
      "fire 1\n",
      "fireplace 1\n",
      "placed 1\n",
      "large 1\n",
      "water.When 1\n",
      "finally 1\n",
      "found 1\n",
      "hole 1\n",
      "chimney 1\n",
      "crawled 1\n",
      "down 1\n",
      "KERSPLASH 1\n",
      "right 1\n",
      "into 1\n",
      "water 1\n",
      "was 1\n",
      "end 1\n",
      "troubles 1\n",
      "with 1\n",
      "big 1\n",
      "bad 1\n",
      "next 1\n",
      "day 1\n",
      "invited 1\n",
      "mother 1\n",
      "over 1\n",
      "She 1\n",
      "said 1\n",
      "You 1\n",
      "see 1\n",
      "I 1\n",
      "told 1\n",
      "way 1\n",
      "get 1\n",
      "along 1\n",
      "world 1\n",
      "do 1\n",
      "things 1\n",
      "well 1\n",
      "can. 1\n",
      "Fortunately 1\n",
      "for 1\n",
      ", 1\n",
      "learned 1\n",
      "lesson 1\n",
      "And 1\n",
      "lived 1\n",
      "happily 1\n",
      "ever 1\n",
      "after 1\n",
      "! 1\n"
     ]
    }
   ],
   "source": [
    "for key in dic:\n",
    "    print(key, dic[key])"
   ]
  },
  {
   "cell_type": "code",
   "execution_count": 20,
   "metadata": {},
   "outputs": [
    {
     "data": {
      "image/png": "[encoded data removed]",
      "text/plain": [
       "<Figure size 432x288 with 1 Axes>"
      ]
     },
     "metadata": {
      "needs_background": "light"
     },
     "output_type": "display_data"
    },
    {
     "data": {
      "text/plain": [
       "<AxesSubplot:xlabel='Samples', ylabel='Counts'>"
      ]
     },
     "execution_count": 20,
     "metadata": {},
     "output_type": "execute_result"
    }
   ],
   "source": [
    "dic.plot(4)"
   ]
  }
 ],
 "metadata": {
  "kernelspec": {
   "display_name": "Python 3",
   "language": "python",
   "name": "python3"
  },
  "language_info": {
   "codemirror_mode": {
    "name": "ipython",
    "version": 3
   },
   "file_extension": ".py",
   "mimetype": "text/x-python",
   "name": "python",
   "nbconvert_exporter": "python",
   "pygments_lexer": "ipython3",
   "version": "3.8.6"
  }
 },
 "nbformat": 4,
 "nbformat_minor": 4
}
