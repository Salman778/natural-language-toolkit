{
 "cells": [
  {
   "cell_type": "code",
   "execution_count": 59,
   "metadata": {},
   "outputs": [],
   "source": [
    "from nltk.stem.wordnet import WordNetLemmatizer\n",
    "from nltk import word_tokenize, FreqDist"
   ]
  },
  {
   "cell_type": "code",
   "execution_count": 8,
   "metadata": {},
   "outputs": [],
   "source": [
    "lem = WordNetLemmatizer()"
   ]
  },
  {
   "cell_type": "code",
   "execution_count": 62,
   "metadata": {},
   "outputs": [],
   "source": [
    "str_orignal = \"A paragraph is a self-contained unit Of discourse in writing dealing with a particular point or idea. A paragraph consists of one or more sentences. Though not required by the syntax of any language, paragraphs are usually an expected part of formal writing, used to organize longer prose.\".lower()"
   ]
  },
  {
   "cell_type": "code",
   "execution_count": 64,
   "metadata": {},
   "outputs": [],
   "source": [
    "str2 = word_tokenize(str_orignal)"
   ]
  },
  {
   "cell_type": "code",
   "execution_count": 65,
   "metadata": {},
   "outputs": [],
   "source": [
    "str3_orignal = FreqDist(str2)"
   ]
  },
  {
   "cell_type": "code",
   "execution_count": 69,
   "metadata": {},
   "outputs": [
    {
     "name": "stdout",
     "output_type": "stream",
     "text": [
      "Lemmatized Word: a 4\n",
      "Lemmatized Word: of 4\n",
      "Lemmatized Word: . 3\n",
      "Lemmatized Word: paragraph 2\n",
      "Lemmatized Word: writing 2\n",
      "Lemmatized Word: or 2\n",
      "Lemmatized Word: , 2\n",
      "Lemmatized Word: is 1\n",
      "Lemmatized Word: self-contained 1\n",
      "Lemmatized Word: unit 1\n",
      "Lemmatized Word: discourse 1\n",
      "Lemmatized Word: in 1\n",
      "Lemmatized Word: dealing 1\n",
      "Lemmatized Word: with 1\n",
      "Lemmatized Word: particular 1\n",
      "Lemmatized Word: point 1\n",
      "Lemmatized Word: idea 1\n",
      "Lemmatized Word: consists 1\n",
      "Lemmatized Word: one 1\n",
      "Lemmatized Word: more 1\n",
      "Lemmatized Word: sentence 1\n",
      "Lemmatized Word: though 1\n",
      "Lemmatized Word: not 1\n",
      "Lemmatized Word: required 1\n",
      "Lemmatized Word: by 1\n",
      "Lemmatized Word: the 1\n",
      "Lemmatized Word: syntax 1\n",
      "Lemmatized Word: any 1\n",
      "Lemmatized Word: language 1\n",
      "Lemmatized Word: paragraph 1\n",
      "Lemmatized Word: are 1\n",
      "Lemmatized Word: usually 1\n",
      "Lemmatized Word: an 1\n",
      "Lemmatized Word: expected 1\n",
      "Lemmatized Word: part 1\n",
      "Lemmatized Word: formal 1\n",
      "Lemmatized Word: used 1\n",
      "Lemmatized Word: to 1\n",
      "Lemmatized Word: organize 1\n",
      "Lemmatized Word: longer 1\n",
      "Lemmatized Word: prose 1\n"
     ]
    }
   ],
   "source": [
    "for word in str3_orignal:\n",
    "    print(\"Lemmatized Word:\",lem.lemmatize(word, 'n'), str3_orignal[word])"
   ]
  }
 ],
 "metadata": {
  "kernelspec": {
   "display_name": "Python 3",
   "language": "python",
   "name": "python3"
  },
  "language_info": {
   "codemirror_mode": {
    "name": "ipython",
    "version": 3
   },
   "file_extension": ".py",
   "mimetype": "text/x-python",
   "name": "python",
   "nbconvert_exporter": "python",
   "pygments_lexer": "ipython3",
   "version": "3.8.6"
  }
 },
 "nbformat": 4,
 "nbformat_minor": 4
}
