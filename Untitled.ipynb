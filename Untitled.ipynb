{
 "cells": [
  {
   "cell_type": "code",
   "execution_count": 4,
   "metadata": {},
   "outputs": [],
   "source": [
    "import PyPDF2\n",
    "import pandas as pd"
   ]
  },
  {
   "cell_type": "code",
   "execution_count": 6,
   "metadata": {},
   "outputs": [],
   "source": [
    "mypdf = open('files/1.pdf', mode='rb')\n",
    "pdf_document = PyPDF2.PdfFileReader(mypdf)\n",
    "numOfPages = pdf_document.numPages"
   ]
  },
  {
   "cell_type": "code",
   "execution_count": 14,
   "metadata": {},
   "outputs": [
    {
     "data": {
      "text/plain": [
       "{'/Title': 'Saudi University Students’ Perceptions towards Virtual Education During Covid-19 Pandemic: A Case Study of Language Learning via Blackboard',\n",
       " '/Author': 'Haifa Al-Nofaie',\n",
       " '/Keywords': 'blackboard, language learning, perceptions, Saudi university students, virtual education',\n",
       " '/Creator': 'Microsoft® Word for Microsoft 365',\n",
       " '/CreationDate': \"D:20200917220857-05'00'\",\n",
       " '/ModDate': \"D:20200917220857-05'00'\",\n",
       " '/Producer': 'Microsoft® Word for Microsoft 365'}"
      ]
     },
     "execution_count": 14,
     "metadata": {},
     "output_type": "execute_result"
    }
   ],
   "source": [
    "pageObj = pdf_document.getPage(0)\n",
    "pdf_document.documentInfo"
   ]
  },
  {
   "cell_type": "code",
   "execution_count": 22,
   "metadata": {},
   "outputs": [
    {
     "data": {
      "text/plain": [
       "'Arab World English Journal (AWEJ) Volume 11. Number 3 September  2020                 \\n               \\n \\n \\n\\n-\\n19             Al\\n-\\nNofaie\\n \\n \\n \\n \\n \\nArab World English Journal                                                                      \\n \\nwww.awej.org\\n \\nISSN: 2229\\n-\\n9327                                                                                                                 \\n \\n5\\n \\n \\n \\nIntroduction\\n \\nThe early focus of \\nComputer\\n-\\nAssisted Language Learning \\n(CALL) was on using the computer as \\na learning tool, and this was due to the limited access to the internet in the \\n1980s and 1990s. Later, \\nthe availability of the internet facilitated \\nthe construction \\nof Virtual Learning Environments \\n(VLEs) that have been \\ndeveloped to facilitate interaction and collaboration \\n(Schwienhorst, 2002)\\n.\\n \\nVLEs have been incorporated into many higher education institutions. Regarding the field of \\nlearning \\nEnglish as a Foreign Language\\n \\n(EFL), there has been a clear preference for \\ncomb\\nining \\nVirtual Language Learning Environments (VLLEs) \\nand flipped learning approaches\\n \\nover \\ntraditional in\\n-\\nclass learning. VLLEs appear in various forms, such as platforms, games and social \\nnetworks \\n(Mroz, 2014)\\n. This preference for utilising VLLEs is due to\\n \\na number of reasons. First, \\nmany EFL studies have revealed the positive impact that VLLEs bring to language learners in \\nterms of learning development despite the existing challenges (e.g., training, cost and security \\nissues) \\n(Mroz, 2014)\\n\\nthat VLLEs provide a space for collaborative learning \\n(Mroz, 2014)\\n. Collaborative learning is a \\n\\n(Miyake \\n&\\n \\nKirschner, 2014, \\np. 420\\n)\\n. This \\nprocess requires \\nthat learners work together when solving problems or completing tasks. Additionally, many \\nlinguists believe that VLLEs can create a learning environment that resembles the culture of the \\ntarget language, \\nand consequently, this can further \\nfacilitate language learning \\n(Mroz, 2014)\\n. Also, \\nthe incorporation of VLEs, which entails the use of technology, \\n\\nneeds of digital \\nlearners\\n\\n \\n(Gamble, 2018\\n, p.  \\n23)\\n.  VLLEs is not obstacle\\n-\\nfree. \\nThe purpose of this study is to \\ninvestigate the perc\\neptions of Saudi university students towards online learning during the \\nCOVID\\n-\\n19 quarantine period. This work presents one of so many stories around the world \\nregarding education in the time of COVID\\n-\\n19. There are some expectations across the world that \\nCO\\nVID\\n-\\n19 will persist for months and will continue to affect the next academic semester. Many \\nuniversities around the world have made their decisions to continue with online lectures for the \\ncoming academic year. It is hoped that this study will allow educat\\nional authorities and instructors \\nto get a sense of how learners experience online learning in order to improve the delivery of online \\n\\ncan be an effective sou\\nrce for informing the design and content of professional development \\ncourses for language instructors, more particularly when teaching in a time of unease. The focus \\non using Blackboard (hereafter BB) in this study has emerged from the fact that it is a co\\nmmon \\nteaching and learning platform at many Saudi universities and at many international universities. \\nAccordingly, this study answers the following question: \\n \\n \\n \\n\\n \\nThis main questi\\non is divided into the following sub\\n-\\nquestions:\\n \\na)\\n \\nWhat are the benefits of BB learning as perceived by learners?\\n \\nb)\\n \\nWhat are the problems with BB learning as perceived by learners?  \\n \\n \\nLiterature Review\\n \\nVLLEs: \\nMerits\\n \\nand \\nBarriers\\n \\nThere are two delivery modes of online courses: Asynchronous and synchronous. \\nAn \\nasynchronous mode of learning refers to the delivery of learning resources and materials via \\n\\nline \\ncommunication does not require the real\\n-\\ntime participation of instructor and students, which can \\n'"
      ]
     },
     "execution_count": 22,
     "metadata": {},
     "output_type": "execute_result"
    }
   ],
   "source": [
    "pageObj2 = pdfReader.getPage(1)\n",
    "page2 = pageObj2.extractText()\n",
    "page2"
   ]
  },
  {
   "cell_type": "code",
   "execution_count": 8,
   "metadata": {},
   "outputs": [
    {
     "name": "stdout",
     "output_type": "stream",
     "text": [
      " \n",
      " \n",
      "  \n",
      "4\n",
      " \n",
      " \n",
      " \n",
      " \n",
      " \n",
      "Arab World English Journal (AWEJ) Volume 11. Number3  September 2020                                           Pp. 4\n",
      "-\n",
      "20   \n",
      " \n",
      " \n",
      "DOI: https://dx.doi.org/10.24093/awej/vol11no3.1\n",
      " \n",
      " \n",
      " \n",
      " \n",
      "\n",
      "Education During Covid\n",
      "-\n",
      "19 \n",
      "Pandemic: A Case Study of Language Learning via Blackboard\n",
      " \n",
      " \n",
      "Haifa Al\n",
      "-\n",
      "Nofaie \n",
      " \n",
      "Department of Foreign Languages, College of Arts, \n",
      " \n",
      "Taif University, Taif, Saudi Arabia\n",
      " \n",
      " \n",
      " \n",
      "Abstract\n",
      " \n",
      "Following the spread of COVID\n",
      "-\n",
      "19, many parts of the world have fully shifted to virtual education. \n",
      "\n",
      "countries where students are not used to virtual classes. This\n",
      " \n",
      "article presents a case study that \n",
      "investigated the perceptions of Saudi university students \n",
      "towards learning via Blackboard, during \n",
      "the unusual mode of delivering education caused by Covid\n",
      "-\n",
      "19. The aim was to identify the merits \n",
      "\n",
      "the pandemic period a\n",
      "nd suggest practical solutions. \n",
      "The participants were 25 university students \n",
      "majoring in the English language at the bachelor of arts level. The instructor (the author) taught \n",
      "\n",
      " \n",
      "the students \n",
      "preferred the asynchronous environment to the synchronous one due to its flexibility.\n",
      " \n",
      "However, \n",
      "unlike research findings identified in relevant studies on virtual education for language learning, \n",
      "the present study reveals that virtual educatio\n",
      "n is not always appealing for students. This study is \n",
      "one of the few studies that compare the synchronous and asynchronous aspects of BB in the \n",
      "Arabian contexts. It is hoped that this study will help university authorities \n",
      "to set out more practical \n",
      "educati\n",
      "onal plans in the case of emergencies. Also, this study will inform the practices of university \n",
      "instructors and designers of professional development courses in the near future. \n",
      " \n",
      "               \n",
      "      \n",
      " \n",
      "Keywords\n",
      ":\n",
      " \n",
      "blackboard\n",
      ", language learning\n",
      ", perceptions, \n",
      "S\n",
      "audi university students\n",
      ", \n",
      "virtual \n",
      "education   \n",
      " \n",
      " \n",
      "Cite as:\n",
      " \n",
      "Al\n",
      "-\n",
      "Nofaie, H\n",
      ".  \n",
      "\n",
      "During Covid\n",
      "-\n",
      "19 Pandemic: A Case Study of Language Learning via Blackboard. \n",
      "Arab World \n",
      "English Journal\n",
      ", \n",
      "11\n",
      " \n",
      "(3) \n",
      "4\n",
      "-\n",
      "20\n",
      ". \n",
      " \n",
      "DOI: https://dx.doi.org/10.24093/awej/vol11no3.1\n",
      " \n",
      " \n",
      " \n",
      " \n",
      " \n",
      " \n",
      " \n",
      " \n",
      " \n",
      "\n"
     ]
    }
   ],
   "source": [
    "first_page = pdf_document.getPage(0)\n",
    "print(first_page.extractText())"
   ]
  },
  {
   "cell_type": "code",
   "execution_count": 9,
   "metadata": {},
   "outputs": [],
   "source": [
    "pdf_document_writer = PyPDF2.PdfFileWriter()"
   ]
  },
  {
   "cell_type": "code",
   "execution_count": 13,
   "metadata": {},
   "outputs": [],
   "source": [
    "pdf_document_writer.addPage(first_page)"
   ]
  },
  {
   "cell_type": "code",
   "execution_count": 15,
   "metadata": {},
   "outputs": [],
   "source": [
    "pdf_output_file = open('new_pdf_file.pdf', 'wb')"
   ]
  },
  {
   "cell_type": "code",
   "execution_count": 16,
   "metadata": {},
   "outputs": [],
   "source": [
    "pdf_document_writer.write(pdf_output_file)"
   ]
  },
  {
   "cell_type": "code",
   "execution_count": null,
   "metadata": {},
   "outputs": [],
   "source": []
  }
 ],
 "metadata": {
  "kernelspec": {
   "display_name": "Python 3",
   "language": "python",
   "name": "python3"
  },
  "language_info": {
   "codemirror_mode": {
    "name": "ipython",
    "version": 3
   },
   "file_extension": ".py",
   "mimetype": "text/x-python",
   "name": "python",
   "nbconvert_exporter": "python",
   "pygments_lexer": "ipython3",
   "version": "3.8.6"
  }
 },
 "nbformat": 4,
 "nbformat_minor": 4
}
